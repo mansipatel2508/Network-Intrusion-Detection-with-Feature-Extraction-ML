{
 "cells": [
  {
   "cell_type": "code",
   "execution_count": 2,
   "metadata": {},
   "outputs": [
    {
     "ename": "ModuleNotFoundError",
     "evalue": "No module named 'cv2'",
     "output_type": "error",
     "traceback": [
      "\u001b[0;31m---------------------------------------------------------------------------\u001b[0m",
      "\u001b[0;31mModuleNotFoundError\u001b[0m                       Traceback (most recent call last)",
      "\u001b[0;32m<ipython-input-2-a0671bf0dab2>\u001b[0m in \u001b[0;36m<module>\u001b[0;34m()\u001b[0m\n\u001b[0;32m----> 1\u001b[0;31m \u001b[0;32mimport\u001b[0m \u001b[0mcv2\u001b[0m\u001b[0;34m\u001b[0m\u001b[0m\n\u001b[0m\u001b[1;32m      2\u001b[0m \u001b[0;32mimport\u001b[0m \u001b[0mos\u001b[0m\u001b[0;34m\u001b[0m\u001b[0m\n\u001b[1;32m      3\u001b[0m \u001b[0;31m#from google.colab.patches import cv2_imshow\u001b[0m\u001b[0;34m\u001b[0m\u001b[0;34m\u001b[0m\u001b[0m\n\u001b[1;32m      4\u001b[0m \u001b[0;32mimport\u001b[0m \u001b[0mos\u001b[0m\u001b[0;34m.\u001b[0m\u001b[0mpath\u001b[0m\u001b[0;34m\u001b[0m\u001b[0m\n\u001b[1;32m      5\u001b[0m \u001b[0;34m\u001b[0m\u001b[0m\n",
      "\u001b[0;31mModuleNotFoundError\u001b[0m: No module named 'cv2'"
     ]
    }
   ],
   "source": [
    "import cv2\n",
    "import os\n",
    "#from google.colab.patches import cv2_imshow\n",
    "import os.path\n",
    "\n",
    "cap = cv2.VideoCapture(1)\n",
    "(ret, frame) = cap.read()\n",
    "prediction = 'n.a.'\n",
    "\n",
    "from keras.models import load_model\n",
    "cnn_model = load_model('keras_cnn_model.hdf5')\n",
    "\n",
    "def test(frame):\n",
    "    x_t = []\n",
    "    #img = imread(frame)\n",
    "    img = frame\n",
    "    #print (frame)\n",
    "    width = 128\n",
    "    height =128\n",
    "    dim = (width, height)\n",
    "    # resize image\n",
    "    resized = cv2.resize(img, dim, interpolation = cv2.INTER_AREA)\n",
    "    #resized = resized.reshape((1,) + resized.shape) \n",
    "    #resized.tolist()\n",
    "    x_t.append(resized)\n",
    "    x_t = np.array(x_t)\n",
    "    x_t = x_t/255\n",
    "    y_pred = cnn_model.predict(x_t)\n",
    "    predct = np.argmax(y_pred,axis=1) \n",
    "    return predct\n",
    "  \n",
    "while True:\n",
    "    \n",
    "\n",
    "    # Capture frame-by-frame\n",
    "    (ret, frame) = cap.read()\n",
    "\n",
    "    cv2.putText(\n",
    "        frame,\n",
    "        'Prediction: ' + prediction,\n",
    "        (15, 45),\n",
    "        cv2.FONT_HERSHEY_PLAIN,\n",
    "        3,\n",
    "        200,\n",
    "        )\n",
    "\n",
    "    # Display the resulting frame\n",
    "    cv2.imshow('color detection',frame)\n",
    "\n",
    "    prediction=test(frame)\n",
    "    #prediction = knn_classifier.main('training.data', 'test.data')\n",
    "    if cv2.waitKey(1) & 0xFF == ord('q'):\n",
    "        break\n",
    "\n",
    "# When everything done, release the capture\n",
    "cap.release()\n",
    "cv2.destroyAllWindows()\t\n"
   ]
  },
  {
   "cell_type": "code",
   "execution_count": null,
   "metadata": {
    "collapsed": true
   },
   "outputs": [],
   "source": []
  }
 ],
 "metadata": {
  "kernelspec": {
   "display_name": "Python 3",
   "language": "python",
   "name": "python3"
  }
 },
 "nbformat": 4,
 "nbformat_minor": 2
}
